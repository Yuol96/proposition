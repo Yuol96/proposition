{
 "cells": [
  {
   "cell_type": "markdown",
   "metadata": {},
   "source": [
    "# `Proposition`\n",
    "`Proposition`是一个用来构造逻辑计算图的一种结点，它的作用是提供命题变元的值 (i.e. **placeholder** or **data provider**)"
   ]
  },
  {
   "cell_type": "code",
   "execution_count": 1,
   "metadata": {},
   "outputs": [],
   "source": [
    "from proposition import Proposition"
   ]
  },
  {
   "cell_type": "markdown",
   "metadata": {},
   "source": [
    "生成`Proposition`对象之后，可以直接在后面加括号来计算它的值"
   ]
  },
  {
   "cell_type": "code",
   "execution_count": 2,
   "metadata": {},
   "outputs": [
    {
     "name": "stdout",
     "output_type": "stream",
     "text": [
      "True\n"
     ]
    }
   ],
   "source": [
    "a = Proposition('a')\n",
    "a.val = True\n",
    "print(a())"
   ]
  },
  {
   "cell_type": "markdown",
   "metadata": {},
   "source": [
    "`Proposition`对象也可以进行命题变元的操作"
   ]
  },
  {
   "cell_type": "code",
   "execution_count": 3,
   "metadata": {},
   "outputs": [
    {
     "name": "stdout",
     "output_type": "stream",
     "text": [
      "False True\n"
     ]
    }
   ],
   "source": [
    "b = a.negation()\n",
    "a.val = False\n",
    "print(a(), b())"
   ]
  },
  {
   "cell_type": "code",
   "execution_count": 4,
   "metadata": {
    "scrolled": false
   },
   "outputs": [
    {
     "name": "stdout",
     "output_type": "stream",
     "text": [
      "==========\n",
      "Input: False False\n",
      "----------\n",
      "conjunction: False\n",
      "disjunction: False\n",
      "implication: True\n",
      "twoWayImplication: True\n",
      "==========\n",
      "Input: False True\n",
      "----------\n",
      "conjunction: False\n",
      "disjunction: True\n",
      "implication: True\n",
      "twoWayImplication: False\n",
      "==========\n",
      "Input: True False\n",
      "----------\n",
      "conjunction: False\n",
      "disjunction: True\n",
      "implication: False\n",
      "twoWayImplication: False\n",
      "==========\n",
      "Input: True True\n",
      "----------\n",
      "conjunction: True\n",
      "disjunction: True\n",
      "implication: True\n",
      "twoWayImplication: True\n"
     ]
    }
   ],
   "source": [
    "a = Proposition('a')\n",
    "b = Proposition('b')\n",
    "\n",
    "conj = a.conjunction(b)\n",
    "disj = a.disjunction(b)\n",
    "impl = a.implication(b)\n",
    "twoImpl = a.twoWayImplication(b)\n",
    "\n",
    "for i in [False, True]:\n",
    "    for j in [False, True]:\n",
    "        a.val = i\n",
    "        b.val = j\n",
    "        print('='*10)\n",
    "        print('Input:',a(), b())\n",
    "        print('-'*10)\n",
    "        print('conjunction:',conj())\n",
    "        print('disjunction:',disj())\n",
    "        print('implication:',impl())\n",
    "        print('twoWayImplication:',twoImpl())"
   ]
  },
  {
   "cell_type": "markdown",
   "metadata": {},
   "source": [
    "# `PropositionLogic`\n",
    "由上面可知，可以通过`Proposition`对象之间的运算来构建计算图(computing graph)，而`PropositionLogic`简化了这一步骤。`PropositionLogic`可以接受一个`String`形式的命题公式，并返回一个已经构建好计算图的`PropositionLogic`对象\n",
    "\n",
    "命题公式有如下要求：\n",
    "- 命题变元必须由小写字母和下划线组成\n",
    "- 命题变元和运算符之间的空格会被忽略\n",
    "- 运算符有\n",
    "    - `!` negation\n",
    "    - `&` conjunction\n",
    "    - `|` disjunction\n",
    "    - `->` implication\n",
    "    - `<->` two-way implication\n",
    "- 支持用小括号来改变优先级\n",
    "\n",
    "Example:\n",
    "\n",
    "![example_from_slides](tf_example.png)"
   ]
  },
  {
   "cell_type": "code",
   "execution_count": 5,
   "metadata": {},
   "outputs": [],
   "source": [
    "from proposition import PropositionLogic\n",
    "\n",
    "logic = PropositionLogic('!(p->(q&r))')"
   ]
  },
  {
   "cell_type": "markdown",
   "metadata": {},
   "source": [
    "`PropositionLogic`对象可以直接调用，参数就是所有的命题变元的值"
   ]
  },
  {
   "cell_type": "code",
   "execution_count": 6,
   "metadata": {},
   "outputs": [
    {
     "data": {
      "text/plain": [
       "True"
      ]
     },
     "execution_count": 6,
     "metadata": {},
     "output_type": "execute_result"
    }
   ],
   "source": [
    "logic(p=True,q=False,r=False)"
   ]
  },
  {
   "cell_type": "code",
   "execution_count": 7,
   "metadata": {},
   "outputs": [
    {
     "data": {
      "text/plain": [
       "False"
      ]
     },
     "execution_count": 7,
     "metadata": {},
     "output_type": "execute_result"
    }
   ],
   "source": [
    "logic(p=False,q=True,r=True)"
   ]
  },
  {
   "cell_type": "markdown",
   "metadata": {},
   "source": [
    "可以调用`PropositionLogic.getTruethFunction`函数来显示它的真值函数"
   ]
  },
  {
   "cell_type": "code",
   "execution_count": 8,
   "metadata": {},
   "outputs": [
    {
     "data": {
      "text/html": [
       "<div>\n",
       "<style scoped>\n",
       "    .dataframe tbody tr th:only-of-type {\n",
       "        vertical-align: middle;\n",
       "    }\n",
       "\n",
       "    .dataframe tbody tr th {\n",
       "        vertical-align: top;\n",
       "    }\n",
       "\n",
       "    .dataframe thead th {\n",
       "        text-align: right;\n",
       "    }\n",
       "</style>\n",
       "<table border=\"1\" class=\"dataframe\">\n",
       "  <thead>\n",
       "    <tr style=\"text-align: right;\">\n",
       "      <th></th>\n",
       "      <th>p</th>\n",
       "      <th>q</th>\n",
       "      <th>r</th>\n",
       "      <th>!(p-&gt;(q&amp;r))</th>\n",
       "    </tr>\n",
       "  </thead>\n",
       "  <tbody>\n",
       "    <tr>\n",
       "      <th>0</th>\n",
       "      <td>True</td>\n",
       "      <td>True</td>\n",
       "      <td>True</td>\n",
       "      <td>False</td>\n",
       "    </tr>\n",
       "    <tr>\n",
       "      <th>1</th>\n",
       "      <td>True</td>\n",
       "      <td>True</td>\n",
       "      <td>False</td>\n",
       "      <td>True</td>\n",
       "    </tr>\n",
       "    <tr>\n",
       "      <th>2</th>\n",
       "      <td>True</td>\n",
       "      <td>False</td>\n",
       "      <td>True</td>\n",
       "      <td>True</td>\n",
       "    </tr>\n",
       "    <tr>\n",
       "      <th>3</th>\n",
       "      <td>True</td>\n",
       "      <td>False</td>\n",
       "      <td>False</td>\n",
       "      <td>True</td>\n",
       "    </tr>\n",
       "    <tr>\n",
       "      <th>4</th>\n",
       "      <td>False</td>\n",
       "      <td>True</td>\n",
       "      <td>True</td>\n",
       "      <td>False</td>\n",
       "    </tr>\n",
       "    <tr>\n",
       "      <th>5</th>\n",
       "      <td>False</td>\n",
       "      <td>True</td>\n",
       "      <td>False</td>\n",
       "      <td>False</td>\n",
       "    </tr>\n",
       "    <tr>\n",
       "      <th>6</th>\n",
       "      <td>False</td>\n",
       "      <td>False</td>\n",
       "      <td>True</td>\n",
       "      <td>False</td>\n",
       "    </tr>\n",
       "    <tr>\n",
       "      <th>7</th>\n",
       "      <td>False</td>\n",
       "      <td>False</td>\n",
       "      <td>False</td>\n",
       "      <td>False</td>\n",
       "    </tr>\n",
       "  </tbody>\n",
       "</table>\n",
       "</div>"
      ],
      "text/plain": [
       "       p      q      r  !(p->(q&r))\n",
       "0   True   True   True        False\n",
       "1   True   True  False         True\n",
       "2   True  False   True         True\n",
       "3   True  False  False         True\n",
       "4  False   True   True        False\n",
       "5  False   True  False        False\n",
       "6  False  False   True        False\n",
       "7  False  False  False        False"
      ]
     },
     "execution_count": 8,
     "metadata": {},
     "output_type": "execute_result"
    }
   ],
   "source": [
    "logic.getTruethFunction(pandas=True)"
   ]
  },
  {
   "cell_type": "code",
   "execution_count": null,
   "metadata": {},
   "outputs": [],
   "source": []
  }
 ],
 "metadata": {
  "kernelspec": {
   "display_name": "Python 3",
   "language": "python",
   "name": "python3"
  },
  "language_info": {
   "codemirror_mode": {
    "name": "ipython",
    "version": 3
   },
   "file_extension": ".py",
   "mimetype": "text/x-python",
   "name": "python",
   "nbconvert_exporter": "python",
   "pygments_lexer": "ipython3",
   "version": "3.6.3"
  }
 },
 "nbformat": 4,
 "nbformat_minor": 2
}
